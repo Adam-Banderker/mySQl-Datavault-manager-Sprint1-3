{
 "cells": [
  {
   "cell_type": "code",
   "execution_count": null,
   "metadata": {},
   "outputs": [],
   "source": [
    "#sprint 3\n",
    "# Added more rows of products, brands and prices\n",
    "\n",
    "import mysql.connector\n",
    "\n",
    "mydb = mysql.connector.connect(\n",
    "  host=\"localhost\",\n",
    "  user=\"root\",\n",
    "  password=\"*******\",\n",
    "  database=\"final_sprint\"\n",
    ")\n",
    "\n",
    "mycursor = mydb.cursor()\n",
    "\n",
    "sql = \"INSERT INTO products (id, product_id, product_name, category, price) VALUES (%s ,%s, %s, %s, %s)\"\n",
    "val = (14,\"A014\", \"Hugo Boss\", \"Perfume\", '800.00')\n",
    "mycursor.execute(sql, val)\n",
    "\n",
    "mydb.commit()\n",
    "\n",
    "print(\"1 record inserted, ID:\", mycursor.lastrowid)"
   ]
  },
  {
   "cell_type": "code",
   "execution_count": 2,
   "metadata": {},
   "outputs": [
    {
     "name": "stdout",
     "output_type": "stream",
     "text": [
      "(1, 'A001', 'Simba', 'Chips', '17.99')\n",
      "(2, 'A002', 'Lays', 'Chips', '15.99')\n",
      "(3, 'A003', 'Cadbury', 'Chocolate', '29.99')\n",
      "(4, 'A004', 'Tex', 'Chocolate', '7.99')\n",
      "(5, 'A005', 'Pepper Steak', 'Pies', '79.99')\n",
      "(6, 'A006', 'Chicken', 'Pies', '49.99')\n",
      "(7, 'A007', 'Pear', 'Fruits', '24.99')\n",
      "(8, 'A008', 'Apple', 'Fruits', '29.99')\n",
      "(9, 'A009', 'Orange', 'Fruits', '34.99')\n",
      "(10, 'A010', 'Vanilla', 'Cupcakes', '29.99')\n",
      "(11, 'A011', 'Chocolate', 'Cupcakes', '39.99')\n",
      "(12, 'A012', 'Spinach', 'Veggies', '12.99')\n",
      "(13, 'A013', 'Cabbage', 'Veggies', '16.00')\n",
      "(14, 'A014', 'Hugo Boss', 'Perfume', '800.00')\n",
      "(15, 'A015', 'D&G', 'Perfume', '1000.00')\n"
     ]
    }
   ],
   "source": [
    "import mysql.connector\n",
    "\n",
    "mydb = mysql.connector.connect(\n",
    "  host=\"localhost\",\n",
    "  user=\"root\",\n",
    "  password=\"Adam78696!\",\n",
    "  database=\"final_sprint\"\n",
    ")\n",
    "\n",
    "mycursor = mydb.cursor()\n",
    "\n",
    "mycursor.execute(\"SELECT * FROM products\")\n",
    "\n",
    "myresult = mycursor.fetchall()\n",
    "\n",
    "for x in myresult:\n",
    "  print(x)"
   ]
  },
  {
   "cell_type": "code",
   "execution_count": null,
   "metadata": {},
   "outputs": [],
   "source": []
  }
 ],
 "metadata": {
  "kernelspec": {
   "display_name": "Python 3",
   "language": "python",
   "name": "python3"
  },
  "language_info": {
   "codemirror_mode": {
    "name": "ipython",
    "version": 3
   },
   "file_extension": ".py",
   "mimetype": "text/x-python",
   "name": "python",
   "nbconvert_exporter": "python",
   "pygments_lexer": "ipython3",
   "version": "3.7.6"
  }
 },
 "nbformat": 4,
 "nbformat_minor": 4
}
